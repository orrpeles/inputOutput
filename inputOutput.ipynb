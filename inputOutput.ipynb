{
 "cells": [
  {
   "cell_type": "markdown",
   "metadata": {},
   "source": [
    "### Chapter 8 of 'automating the boring stuff' is all about input output\n",
    "### importing os module and navigating the file system:"
   ]
  },
  {
   "cell_type": "code",
   "execution_count": 1,
   "metadata": {},
   "outputs": [],
   "source": [
    "import os"
   ]
  },
  {
   "cell_type": "code",
   "execution_count": 4,
   "metadata": {},
   "outputs": [
    {
     "data": {
      "text/plain": [
       "['proc',\n",
       " 'initrd.img',\n",
       " 'opt',\n",
       " 'bin',\n",
       " 'boot',\n",
       " 'media',\n",
       " 'swapfile',\n",
       " 'sys',\n",
       " 'home',\n",
       " 'dev',\n",
       " 'run',\n",
       " 'usr',\n",
       " 'sbin',\n",
       " 'vmlinuz',\n",
       " 'etc',\n",
       " 'lost+found',\n",
       " 'mnt',\n",
       " 'tmp',\n",
       " 'root',\n",
       " 'cdrom',\n",
       " 'lib64',\n",
       " 'lib',\n",
       " 'var',\n",
       " 'initrd.img.old',\n",
       " 'srv']"
      ]
     },
     "execution_count": 4,
     "metadata": {},
     "output_type": "execute_result"
    }
   ],
   "source": [
    "os.listdir('/') # display raw list of dir under '/'"
   ]
  },
  {
   "cell_type": "code",
   "execution_count": 5,
   "metadata": {},
   "outputs": [
    {
     "name": "stdout",
     "output_type": "stream",
     "text": [
      "proc\n",
      "initrd.img\n",
      "opt\n",
      "bin\n",
      "boot\n",
      "media\n",
      "swapfile\n",
      "sys\n",
      "home\n",
      "dev\n",
      "run\n",
      "usr\n",
      "sbin\n",
      "vmlinuz\n",
      "etc\n",
      "lost+found\n",
      "mnt\n",
      "tmp\n",
      "root\n",
      "cdrom\n",
      "lib64\n",
      "lib\n",
      "var\n",
      "initrd.img.old\n",
      "srv\n"
     ]
    }
   ],
   "source": [
    "print('\\n'.join(os.listdir('/'))) # neatly display the list with linebreak"
   ]
  },
  {
   "cell_type": "code",
   "execution_count": 7,
   "metadata": {},
   "outputs": [
    {
     "data": {
      "text/plain": [
       "4096"
      ]
     },
     "execution_count": 7,
     "metadata": {},
     "output_type": "execute_result"
    }
   ],
   "source": [
    "os.path.getsize('/') # size in bytes"
   ]
  },
  {
   "cell_type": "markdown",
   "metadata": {},
   "source": [
    "### to find the total size of all the files in this directory ('/'), I can use os.path.getsize() and os.listdir() together."
   ]
  },
  {
   "cell_type": "code",
   "execution_count": 8,
   "metadata": {},
   "outputs": [],
   "source": [
    "totalSize = 0"
   ]
  },
  {
   "cell_type": "markdown",
   "metadata": {},
   "source": [
    "<b> Notice how when I call os.path.getsize() , I use os.path.join() to join the folder name with the current filename. The integer that os.path.getsize() returns is added to the value of totalSize </b>"
   ]
  },
  {
   "cell_type": "code",
   "execution_count": 9,
   "metadata": {},
   "outputs": [
    {
     "name": "stdout",
     "output_type": "stream",
     "text": [
      "102400\n"
     ]
    }
   ],
   "source": [
    "for file in os.listdir('/'):\n",
    "    totalSize = totalSize+os.path.getsize(os.path.join('/'))\n",
    "print(totalSize)"
   ]
  },
  {
   "cell_type": "markdown",
   "metadata": {},
   "source": [
    "### Reading and writing files:\n",
    "1. Call the open() function to return a File object.\n",
    "2. Call the read() or write() method on the File object.\n",
    "3. Close the file by calling the close() method on the File object."
   ]
  },
  {
   "cell_type": "code",
   "execution_count": 17,
   "metadata": {},
   "outputs": [],
   "source": [
    "helloWorld = open('/home/enumtheworld/inputOutput/text.txt', 'r') # use the 'r' to read from file"
   ]
  },
  {
   "cell_type": "code",
   "execution_count": 18,
   "metadata": {},
   "outputs": [],
   "source": [
    "helloContent = helloWorld.read()"
   ]
  },
  {
   "cell_type": "code",
   "execution_count": 19,
   "metadata": {},
   "outputs": [
    {
     "data": {
      "text/plain": [
       "'Hello World.\\n'"
      ]
     },
     "execution_count": 19,
     "metadata": {},
     "output_type": "execute_result"
    }
   ],
   "source": [
    "helloContent"
   ]
  },
  {
   "cell_type": "code",
   "execution_count": 22,
   "metadata": {},
   "outputs": [],
   "source": [
    "sonnet = open('sonnet29.txt')"
   ]
  },
  {
   "cell_type": "code",
   "execution_count": 23,
   "metadata": {},
   "outputs": [
    {
     "data": {
      "text/plain": [
       "[\"When, in disgrace with fortune and men's eyes,\\n\",\n",
       " 'I all alone beweep my outcast state,\\n',\n",
       " 'And trouble deaf heaven with my bootless cries,\\n',\n",
       " 'And look upon myself and curse my fate,\\n']"
      ]
     },
     "execution_count": 23,
     "metadata": {},
     "output_type": "execute_result"
    }
   ],
   "source": [
    "sonnet.readlines()"
   ]
  }
 ],
 "metadata": {
  "kernelspec": {
   "display_name": "Python 3",
   "language": "python",
   "name": "python3"
  },
  "language_info": {
   "codemirror_mode": {
    "name": "ipython",
    "version": 3
   },
   "file_extension": ".py",
   "mimetype": "text/x-python",
   "name": "python",
   "nbconvert_exporter": "python",
   "pygments_lexer": "ipython3",
   "version": "3.7.1"
  }
 },
 "nbformat": 4,
 "nbformat_minor": 2
}
