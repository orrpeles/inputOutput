{
 "cells": [
  {
   "cell_type": "markdown",
   "metadata": {},
   "source": [
    "### Python program that keeps track of multiple pieces of text copied to clipboard"
   ]
  },
  {
   "cell_type": "markdown",
   "metadata": {},
   "source": [
    "The command line argument for the keyword is checked.\n",
    "If the argument is save , then the clipboard contents are saved to the keyword.\n",
    "\n",
    "If the argument is list , then all the keywords are copied to the clipboard.\n",
    "\n",
    "Otherwise, the text for the keyword is copied to the keyboard.\n",
    "\n",
    "Code:<br>\n",
    "<ol>\n",
    "<li> Read the command line arguments from sys.argv;\n",
    "<li> Read and write to the clipboard;\n",
    "<li> Save and load to a shelf file;\n",
    "</ol>\n"
   ]
  },
  {
   "cell_type": "code",
   "execution_count": 1,
   "metadata": {},
   "outputs": [],
   "source": [
    "import sys, pyperclip, shelve"
   ]
  }
 ],
 "metadata": {
  "kernelspec": {
   "display_name": "Python 3",
   "language": "python",
   "name": "python3"
  },
  "language_info": {
   "codemirror_mode": {
    "name": "ipython",
    "version": 3
   },
   "file_extension": ".py",
   "mimetype": "text/x-python",
   "name": "python",
   "nbconvert_exporter": "python",
   "pygments_lexer": "ipython3",
   "version": "3.7.1"
  }
 },
 "nbformat": 4,
 "nbformat_minor": 2
}
